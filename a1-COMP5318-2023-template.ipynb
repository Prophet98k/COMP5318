{
 "cells": [
  {
   "cell_type": "markdown",
   "metadata": {},
   "source": [
    "# COMP5318 Assignment 1: Classification"
   ]
  },
  {
   "cell_type": "markdown",
   "metadata": {},
   "source": [
    "### Group number: A1Part1 Group2  , SID1: sliu2505 , SID2: ...  "
   ]
  },
  {
   "cell_type": "code",
   "execution_count": 16,
   "metadata": {},
   "outputs": [],
   "source": [
    "# Import all libraries\n",
    "from sklearn.model_selection import StratifiedKFold\n",
    "from sklearn.impute import SimpleImputer\n",
    "from sklearn.preprocessing import MinMaxScaler\n",
    "from sklearn.linear_model import LogisticRegression\n",
    "from sklearn.naive_bayes import GaussianNB\n",
    "import pandas as pd\n",
    "import numpy as np"
   ]
  },
  {
   "cell_type": "code",
   "execution_count": 8,
   "metadata": {},
   "outputs": [
    {
     "name": "stdout",
     "output_type": "stream",
     "text": [
      "<class 'pandas.core.frame.DataFrame'>\n",
      "RangeIndex: 209 entries, 0 to 208\n",
      "Data columns (total 7 columns):\n",
      " #   Column  Non-Null Count  Dtype \n",
      "---  ------  --------------  ----- \n",
      " 0   a1      209 non-null    object\n",
      " 1   a2      209 non-null    object\n",
      " 2   a3      209 non-null    object\n",
      " 3   a4      209 non-null    object\n",
      " 4   a5      209 non-null    object\n",
      " 5   a6      209 non-null    object\n",
      " 6   class   209 non-null    object\n",
      "dtypes: object(7)\n",
      "memory usage: 11.6+ KB\n"
     ]
    },
    {
     "data": {
      "text/html": [
       "<div>\n",
       "<style scoped>\n",
       "    .dataframe tbody tr th:only-of-type {\n",
       "        vertical-align: middle;\n",
       "    }\n",
       "\n",
       "    .dataframe tbody tr th {\n",
       "        vertical-align: top;\n",
       "    }\n",
       "\n",
       "    .dataframe thead th {\n",
       "        text-align: right;\n",
       "    }\n",
       "</style>\n",
       "<table border=\"1\" class=\"dataframe\">\n",
       "  <thead>\n",
       "    <tr style=\"text-align: right;\">\n",
       "      <th></th>\n",
       "      <th>a1</th>\n",
       "      <th>a2</th>\n",
       "      <th>a3</th>\n",
       "      <th>a4</th>\n",
       "      <th>a5</th>\n",
       "      <th>a6</th>\n",
       "      <th>class</th>\n",
       "    </tr>\n",
       "  </thead>\n",
       "  <tbody>\n",
       "    <tr>\n",
       "      <th>0</th>\n",
       "      <td>5.88</td>\n",
       "      <td>0.4874</td>\n",
       "      <td>0.541</td>\n",
       "      <td>1.515</td>\n",
       "      <td>16.55</td>\n",
       "      <td>0.3458</td>\n",
       "      <td>class1</td>\n",
       "    </tr>\n",
       "    <tr>\n",
       "      <th>1</th>\n",
       "      <td>76.47</td>\n",
       "      <td>0.7286</td>\n",
       "      <td>0.6721</td>\n",
       "      <td>1.919</td>\n",
       "      <td>13</td>\n",
       "      <td>0.3308</td>\n",
       "      <td>class1</td>\n",
       "    </tr>\n",
       "    <tr>\n",
       "      <th>2</th>\n",
       "      <td>29.41</td>\n",
       "      <td>0.5879</td>\n",
       "      <td>?</td>\n",
       "      <td>0</td>\n",
       "      <td>0</td>\n",
       "      <td>0.5082</td>\n",
       "      <td>class1</td>\n",
       "    </tr>\n",
       "    <tr>\n",
       "      <th>3</th>\n",
       "      <td>29.41</td>\n",
       "      <td>0.5477</td>\n",
       "      <td>0.6148</td>\n",
       "      <td>2.626</td>\n",
       "      <td>0</td>\n",
       "      <td>0.5365</td>\n",
       "      <td>class1</td>\n",
       "    </tr>\n",
       "    <tr>\n",
       "      <th>4</th>\n",
       "      <td>17.65</td>\n",
       "      <td>0.794</td>\n",
       "      <td>0.623</td>\n",
       "      <td>3.636</td>\n",
       "      <td>28.96</td>\n",
       "      <td>?</td>\n",
       "      <td>class2</td>\n",
       "    </tr>\n",
       "    <tr>\n",
       "      <th>5</th>\n",
       "      <td>17.65</td>\n",
       "      <td>?</td>\n",
       "      <td>0.4754</td>\n",
       "      <td>1.111</td>\n",
       "      <td>6.38</td>\n",
       "      <td>0.3696</td>\n",
       "      <td>class2</td>\n",
       "    </tr>\n",
       "    <tr>\n",
       "      <th>6</th>\n",
       "      <td>64.71</td>\n",
       "      <td>0.6935</td>\n",
       "      <td>0.623</td>\n",
       "      <td>0</td>\n",
       "      <td>0</td>\n",
       "      <td>0.4948</td>\n",
       "      <td>class2</td>\n",
       "    </tr>\n",
       "    <tr>\n",
       "      <th>7</th>\n",
       "      <td>52.94</td>\n",
       "      <td>0.5126</td>\n",
       "      <td>0.623</td>\n",
       "      <td>3.737</td>\n",
       "      <td>0</td>\n",
       "      <td>0.4903</td>\n",
       "      <td>class1</td>\n",
       "    </tr>\n",
       "    <tr>\n",
       "      <th>8</th>\n",
       "      <td>11.76</td>\n",
       "      <td>0.4523</td>\n",
       "      <td>0.5574</td>\n",
       "      <td>4.242</td>\n",
       "      <td>0</td>\n",
       "      <td>0.5693</td>\n",
       "      <td>class2</td>\n",
       "    </tr>\n",
       "    <tr>\n",
       "      <th>9</th>\n",
       "      <td>23.53</td>\n",
       "      <td>0.5578</td>\n",
       "      <td>0.5902</td>\n",
       "      <td>4.747</td>\n",
       "      <td>24.47</td>\n",
       "      <td>0.5529</td>\n",
       "      <td>class1</td>\n",
       "    </tr>\n",
       "  </tbody>\n",
       "</table>\n",
       "</div>"
      ],
      "text/plain": [
       "      a1      a2      a3     a4     a5      a6   class\n",
       "0   5.88  0.4874   0.541  1.515  16.55  0.3458  class1\n",
       "1  76.47  0.7286  0.6721  1.919     13  0.3308  class1\n",
       "2  29.41  0.5879       ?      0      0  0.5082  class1\n",
       "3  29.41  0.5477  0.6148  2.626      0  0.5365  class1\n",
       "4  17.65   0.794   0.623  3.636  28.96       ?  class2\n",
       "5  17.65       ?  0.4754  1.111   6.38  0.3696  class2\n",
       "6  64.71  0.6935   0.623      0      0  0.4948  class2\n",
       "7  52.94  0.5126   0.623  3.737      0  0.4903  class1\n",
       "8  11.76  0.4523  0.5574  4.242      0  0.5693  class2\n",
       "9  23.53  0.5578  0.5902  4.747  24.47  0.5529  class1"
      ]
     },
     "execution_count": 8,
     "metadata": {},
     "output_type": "execute_result"
    }
   ],
   "source": [
    "# Load dataset\n",
    "df = pd.read_csv('test-before.csv')\n",
    "df.info()\n",
    "df.head(10)"
   ]
  },
  {
   "cell_type": "code",
   "execution_count": 11,
   "metadata": {},
   "outputs": [],
   "source": [
    "# Pre-process dataset\n",
    "columns = df.columns[:-1]\n",
    "for column in columns:\n",
    "    data = df[column]\n",
    "    data = data.replace('?',np.nan).astype(float)\n",
    "    imp_mean = SimpleImputer(missing_values = np.nan, strategy = 'mean')\n",
    "    data = np.array([data]).reshape(len(data),1)\n",
    "    imp_mean.fit(data)\n",
    "    new_data = imp_mean.transform(data)\n",
    "    #Normalization\n",
    "    scaler = MinMaxScaler()\n",
    "    scaler.fit(new_data)\n",
    "    new_data = scaler.transform(new_data)\n",
    "    df[column] = new_data\n",
    "\n",
    "def turn_class(data):\n",
    "    if data == 'class1':\n",
    "        return 0\n",
    "    else:\n",
    "        return 1\n",
    "df['class'] = df['class'].agg(turn_class)"
   ]
  },
  {
   "cell_type": "code",
   "execution_count": 12,
   "metadata": {},
   "outputs": [],
   "source": [
    "# Print first ten rows of pre-processed dataset to 4 decimal places as per assignment spec\n",
    "# A function is provided to assist\n",
    "\n",
    "def print_data(X, y, n_rows=10):\n",
    "    \"\"\"Takes a numpy data array and target and prints the first ten rows.\n",
    "    \n",
    "    Arguments:\n",
    "        X: numpy array of shape (n_examples, n_features)\n",
    "        y: numpy array of shape (n_examples)\n",
    "        n_rows: numpy of rows to print\n",
    "    \"\"\"\n",
    "    for example_num in range(n_rows):\n",
    "        for feature in X[example_num]:\n",
    "            print(\"{:.4f}\".format(feature), end=\",\")\n",
    "\n",
    "        if example_num == len(X)-1:\n",
    "            print(y[example_num],end=\"\")\n",
    "        else:\n",
    "            print(y[example_num])\n",
    "            \n"
   ]
  },
  {
   "cell_type": "code",
   "execution_count": 13,
   "metadata": {},
   "outputs": [
    {
     "name": "stdout",
     "output_type": "stream",
     "text": [
      "0.0621,0.4999,0.5410,0.2079,0.2594,0.0613,0\n",
      "0.8073,0.7474,0.6721,0.2634,0.2038,0.0586,0\n",
      "0.3105,0.6030,0.4187,0.0000,0.0000,0.0900,0\n",
      "0.3105,0.5618,0.6148,0.3604,0.0000,0.0950,0\n",
      "0.1863,0.8144,0.6230,0.4990,0.4539,0.1597,1\n",
      "0.1863,0.6039,0.4754,0.1525,0.1000,0.0655,1\n",
      "0.6832,0.7114,0.6230,0.0000,0.0000,0.0877,1\n",
      "0.5589,0.5258,0.6230,0.5129,0.0000,0.0869,0\n",
      "0.1242,0.4639,0.5574,0.5822,0.0000,0.1009,1\n",
      "0.2484,0.5722,0.5902,0.6515,0.3835,0.0979,0"
     ]
    }
   ],
   "source": [
    "X = np.array(df.iloc[0:10,:-1])\n",
    "y = np.array(df.iloc[0:10,-1:]).reshape(1,10)[0]\n",
    "print_data(X,y)"
   ]
  },
  {
   "cell_type": "code",
   "execution_count": 20,
   "metadata": {},
   "outputs": [
    {
     "data": {
      "text/plain": [
       "array([[0.0620777 , 0.49994871, 0.541     , 0.20793302, 0.25940439,\n",
       "        0.06125775, 0.        ],\n",
       "       [0.80732686, 0.7473587 , 0.6721    , 0.26338183, 0.20376176,\n",
       "        0.05860053, 0.        ],\n",
       "       [0.31049409, 0.60303621, 0.41873768, 0.        , 0.        ,\n",
       "        0.09002657, 0.        ],\n",
       "       [0.31049409, 0.56180121, 0.6148    , 0.36041724, 0.        ,\n",
       "        0.09503986, 0.        ],\n",
       "       [0.18633868, 0.81444251, 0.623     , 0.49903925, 0.4539185 ,\n",
       "        0.15972843, 1.        ],\n",
       "       [0.18633868, 0.60385382, 0.4754    , 0.15248422, 0.1       ,\n",
       "        0.06547387, 1.        ],\n",
       "       [0.68317145, 0.71135501, 0.623     , 0.        , 0.        ,\n",
       "        0.08765279, 1.        ],\n",
       "       [0.55891047, 0.52579752, 0.623     , 0.51290145, 0.        ,\n",
       "        0.08685562, 0.        ],\n",
       "       [0.12415541, 0.46394502, 0.5574    , 0.58221246, 0.        ,\n",
       "        0.10085031, 1.        ],\n",
       "       [0.24841639, 0.57216125, 0.5902    , 0.65152347, 0.38354232,\n",
       "        0.09794508, 0.        ]])"
      ]
     },
     "execution_count": 20,
     "metadata": {},
     "output_type": "execute_result"
    }
   ],
   "source": [
    "test = df.to_numpy()\n",
    "test[0:10]"
   ]
  },
  {
   "cell_type": "markdown",
   "metadata": {},
   "source": [
    "### Part 1: Cross-validation without parameter tuning"
   ]
  },
  {
   "cell_type": "code",
   "execution_count": 21,
   "metadata": {},
   "outputs": [],
   "source": [
    "## Setting the 10 fold stratified cross-validation\n",
    "cvKFold=StratifiedKFold(n_splits=10, shuffle=True, random_state=0)\n",
    "\n",
    "# The stratified folds from cvKFold should be provided to the classifiers"
   ]
  },
  {
   "cell_type": "code",
   "execution_count": 26,
   "metadata": {},
   "outputs": [],
   "source": [
    "X = df[df.columns[:-1]].to_numpy()\n",
    "y = df[df.columns[-1]].to_numpy()"
   ]
  },
  {
   "cell_type": "code",
   "execution_count": 36,
   "metadata": {},
   "outputs": [],
   "source": [
    "# Logistic Regression\n",
    "def logregClassifier(X, y):\n",
    "    scores = []\n",
    "    LR = LogisticRegression()\n",
    "    for train_index, test_index in cvKFold.split(X,y):\n",
    "        X_train_fold, X_test_fold = X[train_index], X[test_index]\n",
    "        y_train_fold, y_test_fold = y[train_index], y[test_index]\n",
    "        LR.fit(X_train_fold, y_train_fold)\n",
    "        scores.append(LR.score(X_test_fold, y_test_fold))\n",
    "    scores = np.array(scores)\n",
    "    return scores.mean()"
   ]
  },
  {
   "cell_type": "code",
   "execution_count": 39,
   "metadata": {},
   "outputs": [
    {
     "name": "stdout",
     "output_type": "stream",
     "text": [
      "LogR average cross-validation accuracy: 0.6700\n"
     ]
    }
   ],
   "source": [
    "print(\"LogR average cross-validation accuracy: {:.4f}\".format(logregClassifier(X,y)))"
   ]
  },
  {
   "cell_type": "code",
   "execution_count": 7,
   "metadata": {},
   "outputs": [],
   "source": [
    "#Naïve Bayes\n",
    "def nbClassifier(X, y):\n",
    "\n",
    "    return scores.mean()"
   ]
  },
  {
   "cell_type": "code",
   "execution_count": 8,
   "metadata": {},
   "outputs": [],
   "source": [
    "# Decision Tree\n",
    "def dtClassifier(X, y):\n",
    "\n",
    "    return scores.mean()"
   ]
  },
  {
   "cell_type": "code",
   "execution_count": 9,
   "metadata": {},
   "outputs": [],
   "source": [
    "# Ensembles: Bagging, Ada Boost and Gradient Boosting\n",
    "def bagDTClassifier(X, y, n_estimators, max_samples, max_depth):\n",
    "\n",
    "    return scores.mean()\n",
    "\n",
    "def adaDTClassifier(X, y, n_estimators, learning_rate, max_depth):\n",
    "\n",
    "    return scores.mean()\n",
    "\n",
    "def gbClassifier(X, y, n_estimators, learning_rate):\n",
    "\n",
    "    return scores.mean()"
   ]
  },
  {
   "cell_type": "markdown",
   "metadata": {},
   "source": [
    "### Part 1 Results"
   ]
  },
  {
   "cell_type": "code",
   "execution_count": 10,
   "metadata": {},
   "outputs": [
    {
     "name": "stdout",
     "output_type": "stream",
     "text": [
      "LogR average cross-validation accuracy: \n",
      "NB average cross-validation accuracy: \n",
      "DT average cross-validation accuracy: \n",
      "Bagging average cross-validation accuracy: \n",
      "AdaBoost average cross-validation accuracy: \n",
      "GB average cross-validation accuracy: \n"
     ]
    }
   ],
   "source": [
    "# Parameters for Part 1:\n",
    "\n",
    "#Bagging\n",
    "bag_n_estimators = 60\n",
    "bag_max_samples = 100\n",
    "bag_max_depth = 6\n",
    "\n",
    "#AdaBoost\n",
    "ada_n_estimators = 60\n",
    "ada_learning_rate = 0.5\n",
    "ada_bag_max_depth = 6\n",
    "\n",
    "#GB\n",
    "gb_n_estimators = 60\n",
    "gb_learning_rate = 0.5\n",
    "\n",
    "# Print results for each classifier in part 1 to 4 decimal places here:\n",
    "print(\"LogR average cross-validation accuracy: {:.4f}\".format(logregClassifier(X,y)))\n",
    "print(\"NB average cross-validation accuracy: \")\n",
    "print(\"DT average cross-validation accuracy: \")\n",
    "print(\"Bagging average cross-validation accuracy: \")\n",
    "print(\"AdaBoost average cross-validation accuracy: \")\n",
    "print(\"GB average cross-validation accuracy: \")"
   ]
  },
  {
   "cell_type": "markdown",
   "metadata": {},
   "source": [
    "### Part 2: Cross-validation with parameter tuning"
   ]
  },
  {
   "cell_type": "code",
   "execution_count": 11,
   "metadata": {},
   "outputs": [],
   "source": [
    "# KNN\n",
    "k = [1, 3, 5, 7, 9]\n",
    "p = [1, 2]\n",
    "\n",
    "\n",
    "def bestKNNClassifier(X, y):\n",
    "    \n",
    "    return #(appropriate values so that the required printing can be done)"
   ]
  },
  {
   "cell_type": "code",
   "execution_count": 12,
   "metadata": {},
   "outputs": [],
   "source": [
    "# SVM\n",
    "# You should use SVC from sklearn.svm with kernel set to 'rbf'\n",
    "C = [0.01, 0.1, 1, 5, 15] \n",
    "gamma = [0.01, 0.1, 1, 10, 50]\n",
    "\n",
    "def bestSVMClassifier(X, y):\n",
    "\n",
    "    return  #(appropriate values so that the required printing can be done)"
   ]
  },
  {
   "cell_type": "code",
   "execution_count": 13,
   "metadata": {},
   "outputs": [],
   "source": [
    "# Random Forest\n",
    "# You should use RandomForestClassifier from sklearn.ensemble with information gain and max_features set to ‘sqrt’.\n",
    "n_estimators = [10, 30, 60, 100, 150]\n",
    "max_leaf_nodes = [6, 12, 18]\n",
    "\n",
    "def bestRFClassifier(X, y):\n",
    "\n",
    "    return #(appropriate values so that the required printing can be done)"
   ]
  },
  {
   "cell_type": "markdown",
   "metadata": {},
   "source": [
    "### Part 2: Results"
   ]
  },
  {
   "cell_type": "code",
   "execution_count": 14,
   "metadata": {},
   "outputs": [
    {
     "name": "stdout",
     "output_type": "stream",
     "text": [
      "KNN best k: \n",
      "KNN best p: \n",
      "KNN cross-validation accuracy: \n",
      "KNN test set accuracy: \n",
      "\n",
      "SVM best C: \n",
      "SVM best gamma: \n",
      "SVM cross-validation accuracy: \n",
      "SVM test set accuracy: \n",
      "\n",
      "RF best n_estimators: \n",
      "RF best max_leaf_nodes: \n",
      "RF cross-validation accuracy: \n",
      "RF test set accuracy: \n",
      "RF test set macro average F1: \n",
      "RF test set weighted average F1: \n"
     ]
    }
   ],
   "source": [
    "# Perform Grid Search with 10-fold stratified cross-validation (GridSearchCV in sklearn). \n",
    "# The stratified folds from cvKFold should be provided to GridSearchV\n",
    "\n",
    "# This should include using train_test_split from sklearn.model_selection with stratification and random_state=0\n",
    "# Print results for each classifier here. All results should be printed to 4 decimal places except for\n",
    "# \"k\", \"p\", n_estimators\" and \"max_leaf_nodes\" which should be printed as integers.\n",
    "print(\"KNN best k: \")\n",
    "print(\"KNN best p: \")\n",
    "print(\"KNN cross-validation accuracy: \")\n",
    "print(\"KNN test set accuracy: \")\n",
    "\n",
    "print()\n",
    "\n",
    "print(\"SVM best C: \")\n",
    "print(\"SVM best gamma: \")\n",
    "print(\"SVM cross-validation accuracy: \")\n",
    "print(\"SVM test set accuracy: \")\n",
    "\n",
    "print()\n",
    "\n",
    "print(\"RF best n_estimators: \")\n",
    "print(\"RF best max_leaf_nodes: \")\n",
    "print(\"RF cross-validation accuracy: \")\n",
    "print(\"RF test set accuracy: \")\n",
    "print(\"RF test set macro average F1: \")\n",
    "print(\"RF test set weighted average F1: \")"
   ]
  }
 ],
 "metadata": {
  "kernelspec": {
   "display_name": "Python 3 (ipykernel)",
   "language": "python",
   "name": "python3"
  },
  "language_info": {
   "codemirror_mode": {
    "name": "ipython",
    "version": 3
   },
   "file_extension": ".py",
   "mimetype": "text/x-python",
   "name": "python",
   "nbconvert_exporter": "python",
   "pygments_lexer": "ipython3",
   "version": "3.9.13"
  }
 },
 "nbformat": 4,
 "nbformat_minor": 4
}
